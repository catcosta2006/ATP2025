{
 "cells": [
  {
   "cell_type": "code",
   "execution_count": null,
   "id": "f14af079",
   "metadata": {},
   "outputs": [
    {
     "name": "stdout",
     "output_type": "stream",
     "text": [
      "Bem vindo ao jogo dos fósforos! Tens 21 fósforos.\n",
      "Em cada jogada podes tirar 1, 2, 3 ou 4.\n",
      "Ganha quem deixar apenas 1 fósforo para o adversário. BOA SORTE!\n",
      "Computador: -4; Restam 17 fósforos.\n",
      "Utilizador: -2. Restam 15 fósforos.\n",
      "Computador: -4. Restam 11 fósforos.\n",
      "Utilizador: -4. Restam 7 fósforos.\n",
      "Computador: -1. Restam 6 fósforos.\n",
      "Utilizador: -4. Restam 2 fósforos.\n",
      "Computador: -1. Restam 1 fósforos.\n",
      "Parabéns computador! O utilizador perdeu.\n"
     ]
    }
   ],
   "source": [
    "import random #para pc escolher o primeiro valor random\n",
    "fósforos_restantes = 21 \n",
    "mínimo = 1\n",
    "máximo = 4\n",
    "\n",
    "print(\"Bem vindo ao jogo dos fósforos! Tens 21 fósforos.\")\n",
    "print(\"Em cada jogada podes tirar 1, 2, 3 ou 4.\")\n",
    "print(\"Ganha quem deixar apenas 1 fósforo para o adversário. BOA SORTE!\")\n",
    "\n",
    "#Decidir quem começa a jogar (nível 1 - jogada_utilizador começa; nível 2 - computador começa\n",
    "nível = input(\"Queres jogar nível 1? (s/n): \")\n",
    "\n",
    "while nível != \"n\" and nível != \"s\":\n",
    "    nível = input(\"Resposta inválida. Escreva s para sim ou n para não: \")\n",
    "\n",
    "\n",
    "if nível == \"n\": #nível 2 - computador começa (acontece para resposta n)\n",
    "    jogada_computador = (fósforos_restantes) % 5 #jogada do computador é sempre o resto exceto quando é 0\n",
    "    if jogada_computador == 1:\n",
    "        jogada_computador = random.randint(1, 4)  #computador está em vantagem\n",
    "    fósforos_restantes = fósforos_restantes - jogada_computador #cálculo dos fósforos restantes a cada jogada efetuada\n",
    "    print(f\"Computador: -{jogada_computador}; Restam {fósforos_restantes} fósforos.\") #fósforos retirados pelo computador e fósforos restantes\n",
    "\n",
    "while fósforos_restantes > 1: #até jogo acabar - quando sobrar 1 fósforo (acontece para resposta s/n)\n",
    "    jogada_utilizador = int(input(\"Quantos fósforos quer tirar (1-4)? \")) #jogada do utilizador\n",
    "    while jogada_utilizador < (mínimo) or jogada_utilizador > (máximo) or jogada_utilizador > fósforos_restantes - 1: #verificar se a jogada do utilizador é válida\n",
    "        jogada_utilizador = int(input(\"Jogada inválida. Escolhe entre 1 e 4, sem deixar 0 fósforos: \"))\n",
    "    fósforos_restantes = fósforos_restantes - jogada_utilizador #cálculo dos fósforos restantes a cada jogada efetuada\n",
    "    print(f\"Utilizador: -{jogada_utilizador}. Restam {fósforos_restantes} fósforos.\") #fósforos retirados pelo utilizador e fósforos restantes\n",
    "    if fósforos_restantes == 1: #quando apenas restar 1 fósforos, o utilizador ganha\n",
    "        print(\"Parabéns utilizador! O computador perdeu.\")\n",
    "        break\n",
    "\n",
    "    jogada_computador = (fósforos_restantes -1) % 5 #jogada do computador é sempre o resto exceto quando este é 0\n",
    "    if jogada_computador == 0:\n",
    "        jogada_computador = random.randint(1, min(4, fósforos_restantes - 1)) #número random entre 1 e o mínimo entre 4 e o número de fósforos restantes - 1, garantindo sobre 1\n",
    "    fósforos_restantes = fósforos_restantes - jogada_computador #cálculo dos fósforos restantes a cada jogada efetuada\n",
    "    print(f\"Computador: -{jogada_computador}. Restam {fósforos_restantes} fósforos.\") #fósforos retirados pelo computador e fósforos restantes\n",
    "    if fósforos_restantes == 1: #quando apenas restar 1 fósforos, o computador ganha\n",
    "        print(\"Parabéns computador! O utilizador perdeu.\")\n",
    "        break\n",
    "    \n"
   ]
  }
 ],
 "metadata": {
  "kernelspec": {
   "display_name": "Python 3",
   "language": "python",
   "name": "python3"
  },
  "language_info": {
   "codemirror_mode": {
    "name": "ipython",
    "version": 3
   },
   "file_extension": ".py",
   "mimetype": "text/x-python",
   "name": "python",
   "nbconvert_exporter": "python",
   "pygments_lexer": "ipython3",
   "version": "3.13.7"
  }
 },
 "nbformat": 4,
 "nbformat_minor": 5
}
